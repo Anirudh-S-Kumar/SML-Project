{
 "cells": [
  {
   "cell_type": "code",
   "execution_count": null,
   "metadata": {},
   "outputs": [],
   "source": [
    "import numpy as np\n",
    "\n",
    "class OutlierDetection:\n",
    "    def __init__(self, algorithm: str):\n",
    "        self.algorithm = algorithm\n",
    "        self.mapping = {\n",
    "            \"isolation_forest\": self.isolation_forest,\n",
    "            \"lof\": self.lof\n",
    "        }\n",
    "\n",
    "    def transform(self, X_t: np.ndarray, y_t: np.ndarray) -> tuple[np.ndarray, np.ndarray]:\n",
    "        return self.mapping[self.algorithm](X_t, y_t)\n",
    "\n",
    "    def isolation_forest(self, X_t: np.ndarray, y_t: np.ndarray) -> tuple[np.ndarray, np.ndarray]:\n",
    "        from sklearn.ensemble import IsolationForest\n",
    "\n",
    "        clf = IsolationForest().fit(X_t)\n",
    "        y_pred = clf.predict(X_t)\n",
    "\n",
    "        # percentage of outliers\n",
    "        print(sum(y_pred == -1) / len(y_pred))\n",
    "\n",
    "        # removing outliers\n",
    "        X_t_iso = X_t[y_pred == 1]\n",
    "        y_t_iso = y_t[y_pred == 1]\n",
    "\n",
    "        return X_t_iso, y_t_iso\n",
    "\n",
    "    def lof(self, X_t: np.ndarray, y_t: np.ndarray) -> tuple[np.ndarray, np.ndarray]:\n",
    "        from sklearn.neighbors import LocalOutlierFactor\n",
    "\n",
    "        # create a LOF object\n",
    "        clf = LocalOutlierFactor(n_neighbors=20)\n",
    "\n",
    "        # fit the model\n",
    "        y_pred = clf.fit_predict(X_t)\n",
    "\n",
    "        # percentage of outliers\n",
    "        print(sum(y_pred == -1) / len(y_pred))\n",
    "\n",
    "        # removing outliers\n",
    "        X_t_lof = X_t[y_pred == 1]\n",
    "        y_t_lof = y_t[y_pred == 1]\n",
    "\n",
    "        return X_t_lof, y_t_lof\n"
   ]
  }
 ],
 "metadata": {
  "language_info": {
   "name": "python"
  },
  "orig_nbformat": 4
 },
 "nbformat": 4,
 "nbformat_minor": 2
}
