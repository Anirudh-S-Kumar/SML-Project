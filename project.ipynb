{
 "cells": [
  {
   "attachments": {},
   "cell_type": "markdown",
   "metadata": {},
   "source": [
    "# Importing Training and Testing Data"
   ]
  },
  {
   "cell_type": "code",
   "execution_count": 1,
   "metadata": {},
   "outputs": [],
   "source": [
    "import numpy as np\n",
    "import pandas as pd\n",
    "\n",
    "train_data = pd.read_csv('data/train.csv')\n",
    "\n",
    "X_t = train_data.drop(['category', 'ID'], axis=1)\n",
    "y_t = train_data['category']\n",
    "\n",
    "test_data = pd.read_csv('data/test.csv')"
   ]
  },
  {
   "attachments": {},
   "cell_type": "markdown",
   "metadata": {},
   "source": [
    "# Approach 2: Pipelining the process"
   ]
  },
  {
   "cell_type": "code",
   "execution_count": 2,
   "metadata": {},
   "outputs": [
    {
     "data": {
      "text/plain": [
       "<module 'metaclass' from '/Users/Atharv/Documents/uni/Semester 4/CSE342 - Statistical Machine Learning [SML]/Project/SML-Project/metaclass.py'>"
      ]
     },
     "execution_count": 2,
     "metadata": {},
     "output_type": "execute_result"
    }
   ],
   "source": [
    "import metaclass as mc\n",
    "import pipeline_components as pc\n",
    "import importlib\n",
    "importlib.reload(mc)"
   ]
  },
  {
   "cell_type": "code",
   "execution_count": 3,
   "metadata": {},
   "outputs": [],
   "source": [
    "# labels = ['Apple_Raw', 'Apple_Ripe', 'Banana_Raw', 'Banana_Ripe', 'Coconut_Raw',\n",
    "#  'Coconut_Ripe', 'Guava_Raw', 'Guava_Ripe', 'Leeche_Raw', 'Leeche_Ripe',\n",
    "#  'Mango_Raw', 'Mango_Ripe', 'Orange_Raw', 'Orange_Ripe', 'Papaya_Raw',\n",
    "#  'Papaya_Ripe', 'Pomengranate_Raw', 'Pomengranate_Ripe', 'Strawberry_Raw',\n",
    "#  'Strawberry_Ripe']\n",
    "\n",
    "# Get the category labels\n",
    "# labels = sorted(list(set(y_t)))\n",
    "\n",
    "# # Convert category labels to numbers\n",
    "# y_t_int = y_t.map(lambda x: labels.index(x))\n",
    "# print(labels)\n"
   ]
  },
  {
   "cell_type": "code",
   "execution_count": 4,
   "metadata": {},
   "outputs": [
    {
     "name": "stdout",
     "output_type": "stream",
     "text": [
      "Standardizing data...\n",
      "Currently at clustering: None\n",
      "Currently at dim reduction\n",
      "X_t shape: (1216, 19)\n",
      "Currently at outlier removal: None\n",
      "Currently at classifier: mlp\n"
     ]
    },
    {
     "name": "stderr",
     "output_type": "stream",
     "text": [
      "/Users/Atharv/Library/Python/3.9/lib/python/site-packages/sklearn/neural_network/_multilayer_perceptron.py:541: ConvergenceWarning: lbfgs failed to converge (status=1):\n",
      "STOP: TOTAL NO. of ITERATIONS REACHED LIMIT.\n",
      "\n",
      "Increase the number of iterations (max_iter) or scale the data as shown in:\n",
      "    https://scikit-learn.org/stable/modules/preprocessing.html\n",
      "  self.n_iter_ = _check_optimize_result(\"lbfgs\", opt_res, self.max_iter)\n"
     ]
    },
    {
     "name": "stdout",
     "output_type": "stream",
     "text": [
      "Number of features: 19\n",
      "Number of layers: 3\n",
      "Number of outputs: 20\n",
      "Number of iterations: 200\n",
      "Activation function: softmax\n",
      "Class labels: ['Apple_Raw' 'Apple_Ripe' 'Banana_Raw' 'Banana_Ripe' 'Coconut_Raw'\n",
      " 'Coconut_Ripe' 'Guava_Raw' 'Guava_Ripe' 'Leeche_Raw' 'Leeche_Ripe'\n",
      " 'Mango_Raw' 'Mango_Ripe' 'Orange_Raw' 'Orange_Ripe' 'Papaya_Raw'\n",
      " 'Papaya_Ripe' 'Pomengranate_Raw' 'Pomengranate_Ripe' 'Strawberry_Raw'\n",
      " 'Strawberry_Ripe']\n",
      "----\n",
      "Currently at ensembling\n",
      "Done!\n",
      "Pipeline done\n"
     ]
    },
    {
     "name": "stderr",
     "output_type": "stream",
     "text": [
      "/Users/Atharv/Library/Python/3.9/lib/python/site-packages/sklearn/neural_network/_multilayer_perceptron.py:541: ConvergenceWarning: lbfgs failed to converge (status=1):\n",
      "STOP: TOTAL NO. of ITERATIONS REACHED LIMIT.\n",
      "\n",
      "Increase the number of iterations (max_iter) or scale the data as shown in:\n",
      "    https://scikit-learn.org/stable/modules/preprocessing.html\n",
      "  self.n_iter_ = _check_optimize_result(\"lbfgs\", opt_res, self.max_iter)\n",
      "/Users/Atharv/Library/Python/3.9/lib/python/site-packages/sklearn/neural_network/_multilayer_perceptron.py:541: ConvergenceWarning: lbfgs failed to converge (status=1):\n",
      "STOP: TOTAL NO. of ITERATIONS REACHED LIMIT.\n",
      "\n",
      "Increase the number of iterations (max_iter) or scale the data as shown in:\n",
      "    https://scikit-learn.org/stable/modules/preprocessing.html\n",
      "  self.n_iter_ = _check_optimize_result(\"lbfgs\", opt_res, self.max_iter)\n",
      "/Users/Atharv/Library/Python/3.9/lib/python/site-packages/sklearn/neural_network/_multilayer_perceptron.py:541: ConvergenceWarning: lbfgs failed to converge (status=1):\n",
      "STOP: TOTAL NO. of ITERATIONS REACHED LIMIT.\n",
      "\n",
      "Increase the number of iterations (max_iter) or scale the data as shown in:\n",
      "    https://scikit-learn.org/stable/modules/preprocessing.html\n",
      "  self.n_iter_ = _check_optimize_result(\"lbfgs\", opt_res, self.max_iter)\n",
      "/Users/Atharv/Library/Python/3.9/lib/python/site-packages/sklearn/neural_network/_multilayer_perceptron.py:541: ConvergenceWarning: lbfgs failed to converge (status=1):\n",
      "STOP: TOTAL NO. of ITERATIONS REACHED LIMIT.\n",
      "\n",
      "Increase the number of iterations (max_iter) or scale the data as shown in:\n",
      "    https://scikit-learn.org/stable/modules/preprocessing.html\n",
      "  self.n_iter_ = _check_optimize_result(\"lbfgs\", opt_res, self.max_iter)\n",
      "/Users/Atharv/Library/Python/3.9/lib/python/site-packages/sklearn/neural_network/_multilayer_perceptron.py:541: ConvergenceWarning: lbfgs failed to converge (status=1):\n",
      "STOP: TOTAL NO. of ITERATIONS REACHED LIMIT.\n",
      "\n",
      "Increase the number of iterations (max_iter) or scale the data as shown in:\n",
      "    https://scikit-learn.org/stable/modules/preprocessing.html\n",
      "  self.n_iter_ = _check_optimize_result(\"lbfgs\", opt_res, self.max_iter)\n"
     ]
    }
   ],
   "source": [
    "\n",
    "pipeline = mc.Pipeline(\n",
    "    clustering_alg=None,\n",
    "    dim_reduction_algs=[(\"pca\", 300), (\"lda\", 19)],\n",
    "    outlier_detection_alg=None,\n",
    "    classification_alg=\"mlp\",\n",
    "    ensemble_algs=None,\n",
    ")\n",
    "pipeline.fit(X_t, y_t)\n",
    "print(\"Pipeline done\")\n",
    "# print(\"Pipeline score: \", pipeline.score(X_t, y_t))\n",
    "cv_scores = pipeline.cross_validate(X_t, y_t)"
   ]
  },
  {
   "cell_type": "code",
   "execution_count": 7,
   "metadata": {},
   "outputs": [
    {
     "data": {
      "text/plain": [
       "(0.7138264858665587, 0.01777064908755642)"
      ]
     },
     "execution_count": 7,
     "metadata": {},
     "output_type": "execute_result"
    }
   ],
   "source": [
    "# cv_scores.sort()\n",
    "# 255 pca, 1 lda, logistic, no ensemble\n",
    "cv_scores"
   ]
  },
  {
   "cell_type": "code",
   "execution_count": 8,
   "metadata": {},
   "outputs": [],
   "source": [
    "pipeline.generate_submission(test_data)\n"
   ]
  }
 ],
 "metadata": {
  "kernelspec": {
   "display_name": "Python 3",
   "language": "python",
   "name": "python3"
  },
  "language_info": {
   "codemirror_mode": {
    "name": "ipython",
    "version": 3
   },
   "file_extension": ".py",
   "mimetype": "text/x-python",
   "name": "python",
   "nbconvert_exporter": "python",
   "pygments_lexer": "ipython3",
   "version": "3.9.6"
  },
  "orig_nbformat": 4
 },
 "nbformat": 4,
 "nbformat_minor": 2
}
