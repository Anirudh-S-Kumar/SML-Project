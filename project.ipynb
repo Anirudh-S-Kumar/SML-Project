{
 "cells": [
  {
   "attachments": {},
   "cell_type": "markdown",
   "metadata": {},
   "source": [
    "# Importing Training and Testing Data"
   ]
  },
  {
   "cell_type": "code",
   "execution_count": 13,
   "metadata": {},
   "outputs": [],
   "source": [
    "import numpy as np\n",
    "import pandas as pd\n",
    "\n",
    "train_data = pd.read_csv('data/train.csv')\n",
    "\n",
    "X_t = train_data.drop(['category', 'ID'], axis=1)\n",
    "y_t = train_data['category']\n",
    "\n",
    "test_data = pd.read_csv('data/test.csv')"
   ]
  },
  {
   "attachments": {},
   "cell_type": "markdown",
   "metadata": {},
   "source": [
    "# Approach 1: Using `sklearn`"
   ]
  },
  {
   "attachments": {},
   "cell_type": "markdown",
   "metadata": {},
   "source": [
    "## Training Data without any preprocessing"
   ]
  },
  {
   "cell_type": "code",
   "execution_count": 14,
   "metadata": {},
   "outputs": [
    {
     "name": "stdout",
     "output_type": "stream",
     "text": [
      "0.680327868852459\n"
     ]
    }
   ],
   "source": [
    "from sklearn.model_selection import train_test_split\n",
    "from sklearn.ensemble import RandomForestClassifier\n",
    "\n",
    "\n",
    "\n",
    "X_train, X_test, y_train, y_test = train_test_split(X_t, y_t, test_size=0.2, random_state=42)\n",
    "\n",
    "rf = RandomForestClassifier()\n",
    "rf.fit(X_train, y_train)\n",
    "\n",
    "print(rf.score(X_test, y_test))\n"
   ]
  },
  {
   "attachments": {},
   "cell_type": "markdown",
   "metadata": {},
   "source": [
    "## Removing outliers using Isolation Forest and training again"
   ]
  },
  {
   "cell_type": "code",
   "execution_count": 16,
   "metadata": {},
   "outputs": [
    {
     "name": "stdout",
     "output_type": "stream",
     "text": [
      "0.018092105263157895\n",
      "0.6861924686192469\n"
     ]
    }
   ],
   "source": [
    "from sklearn.ensemble import IsolationForest\n",
    "\n",
    "clf = IsolationForest().fit(X_t)\n",
    "y_pred = clf.predict(X_t)\n",
    "\n",
    "# percentage of outliers\n",
    "print(sum(y_pred == -1) / len(y_pred))\n",
    "\n",
    "# removing outliers\n",
    "X_t_iso = X_t[y_pred == 1]\n",
    "y_t_iso = y_t[y_pred == 1]\n",
    "\n",
    "X_train, X_test, y_train, y_test = train_test_split(X_t_iso, y_t_iso, test_size=0.2, random_state=42)\n",
    "rf.fit(X_train, y_train)\n",
    "print(rf.score(X_test, y_test))\n"
   ]
  },
  {
   "attachments": {},
   "cell_type": "markdown",
   "metadata": {},
   "source": [
    "Not much noticeable improvement"
   ]
  },
  {
   "attachments": {},
   "cell_type": "markdown",
   "metadata": {},
   "source": [
    "## Now also doing dimensionality reduction using LDA"
   ]
  },
  {
   "cell_type": "code",
   "execution_count": 23,
   "metadata": {},
   "outputs": [
    {
     "name": "stdout",
     "output_type": "stream",
     "text": [
      "0.9959016393442623\n"
     ]
    }
   ],
   "source": [
    "from sklearn.discriminant_analysis import LinearDiscriminantAnalysis\n",
    "\n",
    "lda = LinearDiscriminantAnalysis()\n",
    "lda.fit(X_t, y_t)\n",
    "X_t_lda = lda.transform(X_t)\n",
    "\n",
    "clf = IsolationForest().fit(X_t_lda)\n",
    "y_pred = clf.predict(X_t_lda)\n",
    "\n",
    "X_t_lda_iso = X_t_lda[y_pred == 1]\n",
    "y_t_lda_iso = y_t[y_pred == 1]\n",
    "\n",
    "X_train, X_test, y_train, y_test = train_test_split(X_t_lda, y_t, test_size=0.2, random_state=0)\n",
    "\n",
    "rf.fit(X_train, y_train)\n",
    "print(rf.score(X_test, y_test))"
   ]
  }
 ],
 "metadata": {
  "kernelspec": {
   "display_name": "Python 3",
   "language": "python",
   "name": "python3"
  },
  "language_info": {
   "codemirror_mode": {
    "name": "ipython",
    "version": 3
   },
   "file_extension": ".py",
   "mimetype": "text/x-python",
   "name": "python",
   "nbconvert_exporter": "python",
   "pygments_lexer": "ipython3",
   "version": "3.10.5"
  },
  "orig_nbformat": 4
 },
 "nbformat": 4,
 "nbformat_minor": 2
}
