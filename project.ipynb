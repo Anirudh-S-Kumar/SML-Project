{
 "cells": [
  {
   "attachments": {},
   "cell_type": "markdown",
   "metadata": {},
   "source": [
    "# Importing Training and Testing Data"
   ]
  },
  {
   "cell_type": "code",
   "execution_count": 1,
   "metadata": {},
   "outputs": [],
   "source": [
    "import numpy as np\n",
    "import pandas as pd\n",
    "from sklearn.model_selection import train_test_split\n",
    "\n",
    "train_data = pd.read_csv('data/train.csv')\n",
    "\n",
    "X_t = train_data.drop(['category', 'ID'], axis=1)\n",
    "y_t = train_data['category']\n",
    "\n",
    "test_data = pd.read_csv('data/test.csv')\n",
    "\n",
    "X_train, X_test, y_train, y_test = train_test_split(X_t, y_t, test_size=0.1, random_state=42)"
   ]
  },
  {
   "attachments": {},
   "cell_type": "markdown",
   "metadata": {},
   "source": [
    "# Approach 2: Pipelining the process"
   ]
  },
  {
   "cell_type": "code",
   "execution_count": 2,
   "metadata": {},
   "outputs": [
    {
     "data": {
      "text/plain": [
       "<module 'metaclass' from '/Users/Atharv/Documents/uni/Semester 4/CSE342 - Statistical Machine Learning [SML]/Project/SML-Project/metaclass.py'>"
      ]
     },
     "execution_count": 2,
     "metadata": {},
     "output_type": "execute_result"
    }
   ],
   "source": [
    "import metaclass as mc\n",
    "import pipeline_components as pc\n",
    "import importlib\n",
    "importlib.reload(mc)"
   ]
  },
  {
   "cell_type": "code",
   "execution_count": 7,
   "metadata": {},
   "outputs": [
    {
     "name": "stdout",
     "output_type": "stream",
     "text": [
      "Standardizing data...\n",
      "Currently at clustering: ('kmeans', 4)\n"
     ]
    },
    {
     "name": "stderr",
     "output_type": "stream",
     "text": [
      "/Users/Atharv/Library/Python/3.9/lib/python/site-packages/sklearn/cluster/_kmeans.py:870: FutureWarning: The default value of `n_init` will change from 10 to 'auto' in 1.4. Set the value of `n_init` explicitly to suppress the warning\n",
      "  warnings.warn(\n"
     ]
    },
    {
     "name": "stdout",
     "output_type": "stream",
     "text": [
      "Shape of X_t: (1094, 4096)\n",
      "Shape of y_pred: (1094,)\n",
      "Shape of X_t_kmeans: (1094, 4097)\n",
      "Currently at dim reduction\n",
      "X_t shape: (1094, 19)\n",
      "Currently at outlier removal: None\n",
      "Currently at classifier: logistic\n",
      "Currently at ensembling\n",
      "Done!\n",
      "Pipeline done\n"
     ]
    }
   ],
   "source": [
    "pipeline = mc.Pipeline(\n",
    "    clustering_alg=(\"kmeans\", 4),\n",
    "    dim_reduction_algs=[(\"pca\", 350), (\"lda\", 19)],\n",
    "    outlier_detection_alg=None,\n",
    "    classification_alg=\"logistic\",\n",
    "    ensemble_algs=[\"bagging\"],\n",
    ")\n",
    "# pipeline.fit(X_t, y_t)\n",
    "pipeline.fit(X_train, y_train)\n",
    "print(\"Pipeline done\")\n",
    "\n",
    "# cv_scores = pipeline.cross_validate(X_t, y_t, n_splits=5)\n",
    "# print(\"Cross validation scores: \", cv_scores)"
   ]
  },
  {
   "cell_type": "code",
   "execution_count": 8,
   "metadata": {},
   "outputs": [
    {
     "name": "stderr",
     "output_type": "stream",
     "text": [
      "/Users/Atharv/Library/Python/3.9/lib/python/site-packages/sklearn/cluster/_kmeans.py:870: FutureWarning: The default value of `n_init` will change from 10 to 'auto' in 1.4. Set the value of `n_init` explicitly to suppress the warning\n",
      "  warnings.warn(\n"
     ]
    },
    {
     "name": "stdout",
     "output_type": "stream",
     "text": [
      "Shape of X_t: (122, 4096)\n",
      "Shape of y_pred: (122,)\n",
      "Shape of X_t_kmeans: (122, 4097)\n",
      "Validation accuracy:  0.7950819672131147\n"
     ]
    }
   ],
   "source": [
    "# Training accuracy\n",
    "y_pred = pipeline.predict(X_test)\n",
    "print(\"Validation accuracy: \", np.sum(y_pred == y_test) / len(y_test))\n",
    "\n",
    "# 255 pca, 1 lda, logistic, no ensemble\n",
    "# cv_scores"
   ]
  },
  {
   "cell_type": "code",
   "execution_count": 6,
   "metadata": {},
   "outputs": [
    {
     "name": "stderr",
     "output_type": "stream",
     "text": [
      "/Users/Atharv/Library/Python/3.9/lib/python/site-packages/sklearn/cluster/_kmeans.py:870: FutureWarning: The default value of `n_init` will change from 10 to 'auto' in 1.4. Set the value of `n_init` explicitly to suppress the warning\n",
      "  warnings.warn(\n"
     ]
    },
    {
     "name": "stdout",
     "output_type": "stream",
     "text": [
      "Shape of X_t: (415, 4096)\n",
      "Shape of y_pred: (415,)\n",
      "Shape of X_t_kmeans: (415, 4097)\n"
     ]
    }
   ],
   "source": [
    "# pipeline.generate_submission(test_data)"
   ]
  }
 ],
 "metadata": {
  "kernelspec": {
   "display_name": "Python 3",
   "language": "python",
   "name": "python3"
  },
  "language_info": {
   "codemirror_mode": {
    "name": "ipython",
    "version": 3
   },
   "file_extension": ".py",
   "mimetype": "text/x-python",
   "name": "python",
   "nbconvert_exporter": "python",
   "pygments_lexer": "ipython3",
   "version": "3.9.6"
  },
  "orig_nbformat": 4
 },
 "nbformat": 4,
 "nbformat_minor": 2
}
