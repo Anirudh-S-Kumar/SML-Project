{
 "cells": [
  {
   "attachments": {},
   "cell_type": "markdown",
   "metadata": {},
   "source": [
    "# Importing Training and Testing Data"
   ]
  },
  {
   "cell_type": "code",
   "execution_count": 10,
   "metadata": {},
   "outputs": [],
   "source": [
    "import numpy as np\n",
    "import pandas as pd\n",
    "\n",
    "train_data = pd.read_csv('data/train.csv')\n",
    "\n",
    "X_t = train_data.drop(['category', 'ID'], axis=1)\n",
    "y_t = train_data['category']\n",
    "\n",
    "test_data = pd.read_csv('data/test.csv')"
   ]
  },
  {
   "attachments": {},
   "cell_type": "markdown",
   "metadata": {},
   "source": [
    "# Approach 1: Using `sklearn`"
   ]
  },
  {
   "attachments": {},
   "cell_type": "markdown",
   "metadata": {},
   "source": [
    "## Training Data without any preprocessing"
   ]
  },
  {
   "cell_type": "code",
   "execution_count": null,
   "metadata": {},
   "outputs": [],
   "source": [
    "from sklearn.model_selection import train_test_split\n",
    "from sklearn.ensemble import RandomForestClassifier\n",
    "\n",
    "\n",
    "\n",
    "X_train, X_test, y_train, y_test = train_test_split(X_t, y_t, test_size=0.2, random_state=42)\n",
    "\n",
    "rf = RandomForestClassifier()\n",
    "rf.fit(X_train, y_train)\n",
    "\n",
    "print(rf.score(X_test, y_test))\n"
   ]
  },
  {
   "attachments": {},
   "cell_type": "markdown",
   "metadata": {},
   "source": [
    "## Removing outliers using Isolation Forest and training again"
   ]
  },
  {
   "cell_type": "code",
   "execution_count": null,
   "metadata": {},
   "outputs": [],
   "source": [
    "from pipeline import OutlierDetection\n",
    "# import importlib\n",
    "# importlib.reload(OutlierDetection)\n",
    "\n",
    "od = OutlierDetection('isolation_forest')\n",
    "X_t_iso, y_t_iso = od.transform(X_t, y_t)\n",
    "\n",
    "X_train, X_test, y_train, y_test = train_test_split(X_t_iso, y_t_iso, test_size=0.2, random_state=42)\n",
    "rf.fit(X_train, y_train)\n",
    "print(\"Accuracy:\", rf.score(X_test, y_test))\n"
   ]
  },
  {
   "attachments": {},
   "cell_type": "markdown",
   "metadata": {},
   "source": [
    "## Removing outliers using LOF and training again"
   ]
  },
  {
   "cell_type": "code",
   "execution_count": null,
   "metadata": {},
   "outputs": [],
   "source": [
    "from pipeline import OutlierDetection\n",
    "\n",
    "lof = OutlierDetection('lof')\n",
    "X_t_lof, y_t_lof = lof.transform(X_t, y_t)\n",
    "\n",
    "X_train, X_test, y_train, y_test = train_test_split(X_t_lof, y_t_lof, test_size=0.2, random_state=42)\n",
    "rf.fit(X_train, y_train)\n",
    "print(\"Accuracy:\", rf.score(X_test, y_test))"
   ]
  },
  {
   "attachments": {},
   "cell_type": "markdown",
   "metadata": {},
   "source": [
    "## Now also doing dimensionality reduction using LDA"
   ]
  },
  {
   "cell_type": "code",
   "execution_count": null,
   "metadata": {},
   "outputs": [],
   "source": [
    "from pipeline import DimReduction\n",
    "\n",
    "dr = DimReduction('pca', 19)\n",
    "X_t_pca, y_t_pca = dr.transform(X_t, y_t)\n",
    "\n",
    "\n",
    "clf = IsolationForest().fit(X_t_lda)\n",
    "y_pred = clf.predict(X_t_lda)\n",
    "\n",
    "X_t_lda_iso = X_t_lda[y_pred == 1]\n",
    "y_t_lda_iso = y_t[y_pred == 1]\n",
    "\n",
    "X_train, X_test, y_train, y_test = train_test_split(X_t_lda_iso, y_t_lda_iso, test_size=0.2, random_state=0)\n",
    "\n",
    "rf.fit(X_train, y_train)\n",
    "print(rf.score(X_test, y_test))\n",
    "print(X_t.shape)"
   ]
  },
  {
   "attachments": {},
   "cell_type": "markdown",
   "metadata": {},
   "source": [
    "## Generating submission file"
   ]
  },
  {
   "cell_type": "code",
   "execution_count": null,
   "metadata": {},
   "outputs": [],
   "source": [
    "from datetime import datetime\n",
    "\n",
    "X_test = test_data.drop(['ID'], axis=1)\n",
    "\n",
    "X_test_lda = lda.transform(X_test)\n",
    "\n",
    "rf.fit(X_t_lda_iso, y_t_lda_iso)\n",
    "y_pred = rf.predict(X_test_lda)\n",
    "\n",
    "submission = pd.DataFrame({'ID': test_data['ID'], 'Category': y_pred})\n",
    "submission.to_csv(f\"submissions/submission_{(datetime.now()).strftime('%Y_%m_%d-%H_%M')}.csv\", index=False)"
   ]
  },
  {
   "attachments": {},
   "cell_type": "markdown",
   "metadata": {},
   "source": [
    "# Approach 2: Pipelining the process"
   ]
  },
  {
   "cell_type": "code",
   "execution_count": 11,
   "metadata": {},
   "outputs": [
    {
     "data": {
      "text/plain": [
       "<module 'metaclass' from 'c:\\\\Users\\\\aniru\\\\Desktop\\\\College\\\\Statistical Machine Learning (CSE342)\\\\Project\\\\metaclass.py'>"
      ]
     },
     "execution_count": 11,
     "metadata": {},
     "output_type": "execute_result"
    }
   ],
   "source": [
    "import metaclass as mc\n",
    "import importlib\n",
    "importlib.reload(mc)"
   ]
  },
  {
   "cell_type": "code",
   "execution_count": 12,
   "metadata": {},
   "outputs": [
    {
     "ename": "TypeError",
     "evalue": "DimReduction.transform() takes 2 positional arguments but 3 were given",
     "output_type": "error",
     "traceback": [
      "\u001b[1;31m---------------------------------------------------------------------------\u001b[0m",
      "\u001b[1;31mTypeError\u001b[0m                                 Traceback (most recent call last)",
      "\u001b[1;32mc:\\Users\\aniru\\Desktop\\College\\Statistical Machine Learning (CSE342)\\Project\\project.ipynb Cell 16\u001b[0m in \u001b[0;36m<cell line: 7>\u001b[1;34m()\u001b[0m\n\u001b[0;32m      <a href='vscode-notebook-cell:/c%3A/Users/aniru/Desktop/College/Statistical%20Machine%20Learning%20%28CSE342%29/Project/project.ipynb#X20sZmlsZQ%3D%3D?line=2'>3</a>\u001b[0m importlib\u001b[39m.\u001b[39mreload(mc)\n\u001b[0;32m      <a href='vscode-notebook-cell:/c%3A/Users/aniru/Desktop/College/Statistical%20Machine%20Learning%20%28CSE342%29/Project/project.ipynb#X20sZmlsZQ%3D%3D?line=4'>5</a>\u001b[0m pipline \u001b[39m=\u001b[39m mc\u001b[39m.\u001b[39mPipeline(clustering_alg\u001b[39m=\u001b[39m\u001b[39mNone\u001b[39;00m, outlier_detection_alg\u001b[39m=\u001b[39m\u001b[39m'\u001b[39m\u001b[39misolation_forest\u001b[39m\u001b[39m'\u001b[39m, dim_reduction_alg\u001b[39m=\u001b[39m\u001b[39m'\u001b[39m\u001b[39mlda\u001b[39m\u001b[39m'\u001b[39m, classification_alg\u001b[39m=\u001b[39m\u001b[39m'\u001b[39m\u001b[39mrf\u001b[39m\u001b[39m'\u001b[39m)\n\u001b[1;32m----> <a href='vscode-notebook-cell:/c%3A/Users/aniru/Desktop/College/Statistical%20Machine%20Learning%20%28CSE342%29/Project/project.ipynb#X20sZmlsZQ%3D%3D?line=6'>7</a>\u001b[0m pipline\u001b[39m.\u001b[39;49mfit(X_t, y_t)\n\u001b[0;32m      <a href='vscode-notebook-cell:/c%3A/Users/aniru/Desktop/College/Statistical%20Machine%20Learning%20%28CSE342%29/Project/project.ipynb#X20sZmlsZQ%3D%3D?line=7'>8</a>\u001b[0m cv_scores \u001b[39m=\u001b[39m pipline\u001b[39m.\u001b[39mcross_validate(X_t, y_t)\n",
      "File \u001b[1;32mc:\\Users\\aniru\\Desktop\\College\\Statistical Machine Learning (CSE342)\\Project\\metaclass.py:23\u001b[0m, in \u001b[0;36mPipeline.fit\u001b[1;34m(self, X_t, y_t)\u001b[0m\n\u001b[0;32m     21\u001b[0m \u001b[39mif\u001b[39;00m \u001b[39mself\u001b[39m\u001b[39m.\u001b[39mdim_reduction_alg:\n\u001b[0;32m     22\u001b[0m     dr \u001b[39m=\u001b[39m DimReduction(\u001b[39mself\u001b[39m\u001b[39m.\u001b[39mdim_reduction_alg, \u001b[39m20\u001b[39m)\n\u001b[1;32m---> 23\u001b[0m     X_t \u001b[39m=\u001b[39m dr\u001b[39m.\u001b[39;49mtransform(X_t)\n\u001b[0;32m     25\u001b[0m \u001b[39m# outlier detection\u001b[39;00m\n\u001b[0;32m     26\u001b[0m \u001b[39mif\u001b[39;00m \u001b[39mself\u001b[39m\u001b[39m.\u001b[39moutlier_detection_alg:\n",
      "\u001b[1;31mTypeError\u001b[0m: DimReduction.transform() takes 2 positional arguments but 3 were given"
     ]
    }
   ],
   "source": [
    "import metaclass as mc\n",
    "import importlib\n",
    "importlib.reload(mc)\n",
    "\n",
    "pipeline = mc.Pipeline(\n",
    "    clustering_alg=None,\n",
    "    dim_reduction_alg=\"lda\",\n",
    "    outlier_detection_alg=\"isolation_forest\",\n",
    "    classification_alg=\"rf\"\n",
    ")\n",
    "pipeline.fit(X_t, y_t)\n",
    "cv_scores = pipeline.cross_validate(X_t, y_t)"
   ]
  },
  {
   "cell_type": "code",
   "execution_count": null,
   "metadata": {},
   "outputs": [],
   "source": [
    "pipeline.generate_submission(test_data)"
   ]
  }
 ],
 "metadata": {
  "kernelspec": {
   "display_name": "Python 3",
   "language": "python",
   "name": "python3"
  },
  "language_info": {
   "codemirror_mode": {
    "name": "ipython",
    "version": 3
   },
   "file_extension": ".py",
   "mimetype": "text/x-python",
   "name": "python",
   "nbconvert_exporter": "python",
   "pygments_lexer": "ipython3",
   "version": "3.10.5"
  },
  "orig_nbformat": 4
 },
 "nbformat": 4,
 "nbformat_minor": 2
}
