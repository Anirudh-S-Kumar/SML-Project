{
 "cells": [
  {
   "attachments": {},
   "cell_type": "markdown",
   "metadata": {},
   "source": [
    "# Importing Training and Testing Data"
   ]
  },
  {
   "cell_type": "code",
   "execution_count": 1,
   "metadata": {},
   "outputs": [],
   "source": [
    "import numpy as np\n",
    "import pandas as pd\n",
    "\n",
    "train_data = pd.read_csv('data/train.csv')\n",
    "\n",
    "X_t = train_data.drop(['category', 'ID'], axis=1)\n",
    "y_t = train_data['category']\n",
    "\n",
    "test_data = pd.read_csv('data/test.csv')"
   ]
  },
  {
   "attachments": {},
   "cell_type": "markdown",
   "metadata": {},
   "source": [
    "# Approach 1: Using `sklearn`"
   ]
  },
  {
   "attachments": {},
   "cell_type": "markdown",
   "metadata": {},
   "source": [
    "## Training Data without any preprocessing"
   ]
  },
  {
   "cell_type": "code",
   "execution_count": 2,
   "metadata": {},
   "outputs": [
    {
     "name": "stdout",
     "output_type": "stream",
     "text": [
      "0.680327868852459\n"
     ]
    }
   ],
   "source": [
    "from sklearn.model_selection import train_test_split\n",
    "from sklearn.ensemble import RandomForestClassifier\n",
    "\n",
    "\n",
    "\n",
    "X_train, X_test, y_train, y_test = train_test_split(X_t, y_t, test_size=0.2, random_state=42)\n",
    "\n",
    "rf = RandomForestClassifier()\n",
    "rf.fit(X_train, y_train)\n",
    "\n",
    "print(rf.score(X_test, y_test))\n"
   ]
  },
  {
   "attachments": {},
   "cell_type": "markdown",
   "metadata": {},
   "source": [
    "## Removing outliers using Isolation Forest and training again"
   ]
  },
  {
   "cell_type": "code",
   "execution_count": 3,
   "metadata": {},
   "outputs": [
    {
     "name": "stdout",
     "output_type": "stream",
     "text": [
      "Outlier percentage: 0.01069078947368421\n",
      "Accuracy: 0.6556016597510373\n"
     ]
    }
   ],
   "source": [
    "from pipeline import OutlierDetection\n",
    "# import importlib\n",
    "# importlib.reload(OutlierDetection)\n",
    "\n",
    "od = OutlierDetection('isolation_forest')\n",
    "X_t_iso, y_t_iso = od.transform(X_t, y_t)\n",
    "\n",
    "X_train, X_test, y_train, y_test = train_test_split(X_t_iso, y_t_iso, test_size=0.2, random_state=42)\n",
    "rf.fit(X_train, y_train)\n",
    "print(\"Accuracy:\", rf.score(X_test, y_test))\n"
   ]
  },
  {
   "attachments": {},
   "cell_type": "markdown",
   "metadata": {},
   "source": [
    "## Removing outliers using LOF and training again"
   ]
  },
  {
   "cell_type": "code",
   "execution_count": 4,
   "metadata": {},
   "outputs": [
    {
     "name": "stdout",
     "output_type": "stream",
     "text": [
      "Outlier percentage: 0.0024671052631578946\n",
      "Accuracy: 0.7448559670781894\n"
     ]
    }
   ],
   "source": [
    "from pipeline import OutlierDetection\n",
    "\n",
    "lof = OutlierDetection('lof')\n",
    "X_t_lof, y_t_lof = lof.transform(X_t, y_t)\n",
    "\n",
    "X_train, X_test, y_train, y_test = train_test_split(X_t_lof, y_t_lof, test_size=0.2, random_state=42)\n",
    "rf.fit(X_train, y_train)\n",
    "print(\"Accuracy:\", rf.score(X_test, y_test))"
   ]
  },
  {
   "attachments": {},
   "cell_type": "markdown",
   "metadata": {},
   "source": [
    "## Now also doing dimensionality reduction using LDA"
   ]
  },
  {
   "cell_type": "code",
   "execution_count": 5,
   "metadata": {},
   "outputs": [
    {
     "ename": "NameError",
     "evalue": "name 'IsolationForest' is not defined",
     "output_type": "error",
     "traceback": [
      "\u001b[0;31m---------------------------------------------------------------------------\u001b[0m",
      "\u001b[0;31mNameError\u001b[0m                                 Traceback (most recent call last)",
      "Cell \u001b[0;32mIn[5], line 8\u001b[0m\n\u001b[1;32m      4\u001b[0m lda\u001b[39m.\u001b[39mfit(X_t, y_t)\n\u001b[1;32m      5\u001b[0m X_t_lda \u001b[39m=\u001b[39m lda\u001b[39m.\u001b[39mtransform(X_t)\n\u001b[0;32m----> 8\u001b[0m clf \u001b[39m=\u001b[39m IsolationForest()\u001b[39m.\u001b[39mfit(X_t_lda)\n\u001b[1;32m      9\u001b[0m y_pred \u001b[39m=\u001b[39m clf\u001b[39m.\u001b[39mpredict(X_t_lda)\n\u001b[1;32m     11\u001b[0m X_t_lda_iso \u001b[39m=\u001b[39m X_t_lda[y_pred \u001b[39m==\u001b[39m \u001b[39m1\u001b[39m]\n",
      "\u001b[0;31mNameError\u001b[0m: name 'IsolationForest' is not defined"
     ]
    }
   ],
   "source": [
    "from pipeline import DimReduction\n",
    "\n",
    "dr = DimReduction('pca', 19)\n",
    "X_t_pca, y_t_pca = dr.transform(X_t, y_t)\n",
    "\n",
    "\n",
    "clf = IsolationForest().fit(X_t_lda)\n",
    "y_pred = clf.predict(X_t_lda)\n",
    "\n",
    "X_t_lda_iso = X_t_lda[y_pred == 1]\n",
    "y_t_lda_iso = y_t[y_pred == 1]\n",
    "\n",
    "X_train, X_test, y_train, y_test = train_test_split(X_t_lda_iso, y_t_lda_iso, test_size=0.2, random_state=0)\n",
    "\n",
    "rf.fit(X_train, y_train)\n",
    "print(rf.score(X_test, y_test))\n",
    "print(X_t.shape)"
   ]
  },
  {
   "attachments": {},
   "cell_type": "markdown",
   "metadata": {},
   "source": [
    "## Generating submission file"
   ]
  },
  {
   "cell_type": "code",
   "execution_count": null,
   "metadata": {},
   "outputs": [],
   "source": [
    "from datetime import datetime\n",
    "\n",
    "X_test = test_data.drop(['ID'], axis=1)\n",
    "\n",
    "X_test_lda = lda.transform(X_test)\n",
    "\n",
    "rf.fit(X_t_lda_iso, y_t_lda_iso)\n",
    "y_pred = rf.predict(X_test_lda)\n",
    "\n",
    "submission = pd.DataFrame({'ID': test_data['ID'], 'Category': y_pred})\n",
    "submission.to_csv(f\"submissions/submission_{(datetime.now()).strftime('%Y_%m_%d-%H_%M')}.csv\", index=False)"
   ]
  }
 ],
 "metadata": {
  "kernelspec": {
   "display_name": "Python 3",
   "language": "python",
   "name": "python3"
  },
  "language_info": {
   "codemirror_mode": {
    "name": "ipython",
    "version": 3
   },
   "file_extension": ".py",
   "mimetype": "text/x-python",
   "name": "python",
   "nbconvert_exporter": "python",
   "pygments_lexer": "ipython3",
   "version": "3.9.6"
  },
  "orig_nbformat": 4
 },
 "nbformat": 4,
 "nbformat_minor": 2
}
