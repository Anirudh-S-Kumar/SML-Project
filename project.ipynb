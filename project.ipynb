{
 "cells": [
  {
   "attachments": {},
   "cell_type": "markdown",
   "metadata": {},
   "source": [
    "# Importing Training and Testing Data"
   ]
  },
  {
   "cell_type": "code",
   "execution_count": 1,
   "metadata": {},
   "outputs": [],
   "source": [
    "import numpy as np\n",
    "import pandas as pd\n",
    "from sklearn.model_selection import train_test_split\n",
    "\n",
    "train_data = pd.read_csv('data/train.csv')\n",
    "\n",
    "X_t = train_data.drop(['category', 'ID'], axis=1)\n",
    "y_t = train_data['category']\n",
    "\n",
    "test_data = pd.read_csv('data/test.csv')\n",
    "\n",
    "X_train, X_test, y_train, y_test = train_test_split(X_t, y_t, test_size=0.1, random_state=42)"
   ]
  },
  {
   "attachments": {},
   "cell_type": "markdown",
   "metadata": {},
   "source": [
    "# Approach 2: Pipelining the process"
   ]
  },
  {
   "cell_type": "code",
   "execution_count": 2,
   "metadata": {},
   "outputs": [
    {
     "data": {
      "text/plain": [
       "<module 'metaclass' from '/Users/Atharv/Documents/uni/Semester 4/CSE342 - Statistical Machine Learning [SML]/Project/SML-Project/metaclass.py'>"
      ]
     },
     "execution_count": 2,
     "metadata": {},
     "output_type": "execute_result"
    }
   ],
   "source": [
    "import metaclass as mc\n",
    "import pipeline_components as pc\n",
    "import importlib\n",
    "importlib.reload(mc)"
   ]
  },
  {
   "cell_type": "code",
   "execution_count": null,
   "metadata": {},
   "outputs": [],
   "source": [
    "pipeline = mc.Pipeline(\n",
    "    clustering_alg=(\"kmeans\", 4),\n",
    "    dim_reduction_algs=[(\"pca\", 350), (\"lda\", 19)],\n",
    "    outlier_detection_alg=None,\n",
    "    classification_alg=\"logistic\",\n",
    "    ensemble_algs=[\"bagging\"],\n",
    ")\n",
    "# pipeline.fit(X_t, y_t)\n",
    "pipeline.fit(X_train, y_train)\n",
    "print(\"Pipeline done\")\n",
    "\n",
    "# cv_scores = pipeline.cross_validate(X_t, y_t, n_splits=5)\n",
    "# print(\"Cross validation scores: \", cv_scores)"
   ]
  },
  {
   "cell_type": "code",
   "execution_count": null,
   "metadata": {},
   "outputs": [],
   "source": [
    "# Training accuracy\n",
    "y_pred = pipeline.predict(X_test)\n",
    "print(\"Validation accuracy: \", np.sum(y_pred == y_test) / len(y_test))\n",
    "\n",
    "# 255 pca, 1 lda, logistic, no ensemble\n",
    "# cv_scores"
   ]
  },
  {
   "cell_type": "code",
   "execution_count": null,
   "metadata": {},
   "outputs": [],
   "source": [
    "# pipeline.generate_submission(test_data)"
   ]
  },
  {
   "attachments": {},
   "cell_type": "markdown",
   "metadata": {},
   "source": [
    "# Approach 3 - New Pipeline"
   ]
  },
  {
   "attachments": {},
   "cell_type": "markdown",
   "metadata": {},
   "source": [
    "# Imports"
   ]
  },
  {
   "cell_type": "code",
   "execution_count": 2,
   "metadata": {},
   "outputs": [],
   "source": [
    "from sklearn.linear_model import LogisticRegression\n",
    "from sklearn.pipeline import Pipeline, make_pipeline\n",
    "from sklearn.preprocessing import FunctionTransformer, OneHotEncoder, StandardScaler\n",
    "from pipeline_components import *\n",
    "from sklearn.decomposition import PCA\n",
    "from sklearn.discriminant_analysis import LinearDiscriminantAnalysis\n",
    "from sklearn.neural_network import MLPClassifier\n",
    "from sklearn.model_selection import cross_val_score\n",
    "from sklearn.ensemble import BaggingClassifier, GradientBoostingClassifier\n",
    "from xgboost import XGBClassifier\n",
    "from sklearn.cluster import KMeans\n",
    "from sklearn.cluster import DBSCAN\n",
    "from sklearn.neighbors import LocalOutlierFactor\n",
    "from sklearn.model_selection import GridSearchCV"
   ]
  },
  {
   "cell_type": "code",
   "execution_count": 3,
   "metadata": {},
   "outputs": [],
   "source": [
    "import csv\n",
    "import sys\n",
    "\n",
    "def generate_submission(pipeline, test_data):\n",
    "    from datetime import datetime\n",
    "\n",
    "    X_test = test_data.drop(['ID'], axis=1)\n",
    "    y_pred = pipeline.predict(X_test)\n",
    "\n",
    "    submission = pd.DataFrame({'ID': test_data['ID'], 'Category': y_pred})\n",
    "    filename = f\"./submissions/submission_{(datetime.now()).strftime('%Y_%m_%d-%H_%M')}.csv\"\n",
    "    submission.to_csv(filename, index=False)\n",
    "\n",
    "    return filename\n",
    "\n",
    "def compare_csv(file1, file2):\n",
    "    with open(file1, 'r') as f1, open(file2, 'r') as f2:\n",
    "        reader1 = csv.reader(f1)\n",
    "        reader2 = csv.reader(f2)\n",
    "        count = 0\n",
    "        for row1, row2 in zip(reader1, reader2):\n",
    "            if row1 != row2:\n",
    "                count += 1\n",
    "    return count"
   ]
  },
  {
   "cell_type": "code",
   "execution_count": 4,
   "metadata": {},
   "outputs": [
    {
     "data": {
      "text/plain": [
       "(1216, 4096)"
      ]
     },
     "execution_count": 4,
     "metadata": {},
     "output_type": "execute_result"
    }
   ],
   "source": [
    "def apply_dbscan(X, eps=5.7, min_samples=5):\n",
    "    # apply dbscan on a dataset of 19 features and 1000 samples\n",
    "    \n",
    "    clus = DBSCAN(eps=eps, min_samples=min_samples)\n",
    "    y_pred = clus.fit_predict(X)\n",
    "    X = np.c_[X, y_pred]\n",
    "    return X\n",
    "    # add cluster label as a new feature to the dataset \n",
    "\n",
    "def apply_kmeans(X, n_clusters):\n",
    "    clus = KMeans(n_clusters=n_clusters)\n",
    "    y_pred = clus.fit_predict(X)\n",
    "    X = np.c_[X, y_pred]\n",
    "    return X\n",
    "    # add cluster label as a new feature to the dataset\n",
    "\n",
    "def apply_lof(X, n_neighbors):\n",
    "    clus = LocalOutlierFactor(n_neighbors=n_neighbors, contamination=0.1)\n",
    "    # remove the outliers\n",
    "    y_pred = clus.fit_predict(X)\n",
    "    X = X[y_pred == 1]\n",
    "    print(\"New X.shape:\", X.shape)\n",
    "    return X\n",
    "    # add cluster label as a new feature to the dataset\n",
    "X_t.shape"
   ]
  },
  {
   "cell_type": "code",
   "execution_count": 45,
   "metadata": {},
   "outputs": [
    {
     "name": "stdout",
     "output_type": "stream",
     "text": [
      "Pipeline done\n"
     ]
    }
   ],
   "source": [
    "pipeline = Pipeline([\n",
    "    (\"PCA\", PCA(n_components=415, random_state=None)),\n",
    "    (\"LDA\", LinearDiscriminantAnalysis(n_components=19)),\n",
    "    # (\"StandardScaler\", StandardScaler()), # This appears to be hurting performance\n",
    "    (\"dbscan\", FunctionTransformer(apply_dbscan, validate=False, kw_args={'eps': 0.5, 'min_samples': 5})),\n",
    "    (\"LR\", LogisticRegression(solver='lbfgs', multi_class='multinomial', max_iter=10000, random_state=42)), \n",
    "    # (\"bagging\", BaggingClassifier(estimator=(\n",
    "    #     LogisticRegression(solver='lbfgs', multi_class='multinomial', max_iter=10000, random_state=0)), \n",
    "    #     n_estimators=80, max_samples=0.8, max_features=0.8, bootstrap=True, bootstrap_features=False, random_state=0)),\n",
    "    ])\n",
    "\n",
    "\n",
    "# MLPClassifier(activation='relu', solver='lbfgs', alpha=10, hidden_layer_sizes=(319), random_state=1)\n",
    "\n",
    "pipeline.fit(X_t, y_t)\n",
    "print(\"Pipeline done\")\n",
    "cross_val_scores=cross_val_score(pipeline, X_t, y_t, cv=5)"
   ]
  },
  {
   "cell_type": "code",
   "execution_count": 46,
   "metadata": {},
   "outputs": [
    {
     "name": "stdout",
     "output_type": "stream",
     "text": [
      "Cross validation accuracy: 0.7870201713553262 0.011771888218301677\n",
      "Training accuracy:  0.9918032786885246\n"
     ]
    }
   ],
   "source": [
    "print(\"Cross validation accuracy:\", cross_val_scores.mean(), cross_val_scores.std())\n",
    "y_pred = pipeline.predict(X_test)\n",
    "print(\"Training accuracy: \", np.sum(y_pred == y_test) / len(y_test))"
   ]
  },
  {
   "cell_type": "code",
   "execution_count": 47,
   "metadata": {},
   "outputs": [
    {
     "name": "stdout",
     "output_type": "stream",
     "text": [
      "There are 20 different lines between our best csv and ./submissions/submission_2023_04_17-01_26.csv.\n",
      "There are 24 different lines between prakhar.csv and ./submissions/submission_2023_04_17-01_26.csv.\n"
     ]
    }
   ],
   "source": [
    "filename = generate_submission(pipeline, test_data)\n",
    "diff_count_1 = compare_csv(r'./submissions/submission_2023_04_14-23_30.csv', filename)\n",
    "diff_count_2 = compare_csv(r'./submissions/prakhar.csv', filename)\n",
    "print(f'There are {diff_count_1} different lines between our best csv and {filename}.')\n",
    "print(f'There are {diff_count_2} different lines between prakhar.csv and {filename}.')"
   ]
  },
  {
   "cell_type": "code",
   "execution_count": null,
   "metadata": {},
   "outputs": [],
   "source": [
    "# Apply grid search to find the best parameters for the pipeline\n",
    "param_grid = {\n",
    "    'dbscan__min_samples': [5, 6, 7, 8, 9, 10],\n",
    "    'bagging__n_estimators': [[i for i in range(10, 200, 10)]],\n",
    "    'bagging__max_samples': [0.5, 0.8, 1.0],\n",
    "    'bagging__max_features': [0.5, 0.8, 1.0],\n",
    "    'bagging__bootstrap': [True, False],\n",
    "    'bagging__bootstrap_features': [False, True],\n",
    "    'bagging__random_state': [42, 0],\n",
    "}\n",
    "grid_search = GridSearchCV(pipeline, param_grid, n_jobs=-1, verbose=1)"
   ]
  },
  {
   "cell_type": "code",
   "execution_count": null,
   "metadata": {},
   "outputs": [],
   "source": [
    "grid_search.fit(X_t, y_t)\n",
    "print(\"Grid search done\")"
   ]
  },
  {
   "cell_type": "code",
   "execution_count": null,
   "metadata": {},
   "outputs": [],
   "source": [
    "print(\"Best parameters: \", grid_search.best_params_)"
   ]
  },
  {
   "cell_type": "code",
   "execution_count": null,
   "metadata": {},
   "outputs": [
    {
     "data": {
      "image/png": "[encoded data removed]",
      "text/plain": [
       "<Figure size 640x480 with 1 Axes>"
      ]
     },
     "metadata": {},
     "output_type": "display_data"
    }
   ],
   "source": [
    "def compute_k_distance_graph(X, k):\n",
    "    from sklearn.neighbors import NearestNeighbors\n",
    "    import matplotlib.pyplot as plt\n",
    "\n",
    "    # Assume X is your dataset\n",
    "    neigh = NearestNeighbors(n_neighbors=k)\n",
    "    neigh.fit(X)\n",
    "    distances, _ = neigh.kneighbors(X)\n",
    "\n",
    "    # Sort the distances for each point\n",
    "    distances = np.sort(distances, axis=0)[::-1]\n",
    "\n",
    "    # Plot the k-distance graph\n",
    "    plt.plot(distances[:, -1])\n",
    "    plt.show()\n",
    "\n",
    "# apply PCA and LDA on X_t\n",
    "def apply_pca_lda(X, y):\n",
    "    pipeline = Pipeline([\n",
    "        (\"PCA 415\", PCA(n_components=415)),\n",
    "        (\"LDA 19\", LinearDiscriminantAnalysis(n_components=19)),\n",
    "    ])\n",
    "    return pipeline.fit_transform(X, y)\n",
    "\n",
    "compute_k_distance_graph(apply_pca_lda(X_t, y_t), 5)"
   ]
  }
 ],
 "metadata": {
  "kernelspec": {
   "display_name": "Python 3",
   "language": "python",
   "name": "python3"
  },
  "language_info": {
   "codemirror_mode": {
    "name": "ipython",
    "version": 3
   },
   "file_extension": ".py",
   "mimetype": "text/x-python",
   "name": "python",
   "nbconvert_exporter": "python",
   "pygments_lexer": "ipython3",
   "version": "3.9.6"
  },
  "orig_nbformat": 4
 },
 "nbformat": 4,
 "nbformat_minor": 2
}
