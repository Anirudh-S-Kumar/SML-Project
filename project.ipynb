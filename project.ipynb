{
 "cells": [
  {
   "attachments": {},
   "cell_type": "markdown",
   "metadata": {},
   "source": [
    "# Importing Training and Testing Data"
   ]
  },
  {
   "cell_type": "code",
   "execution_count": 27,
   "metadata": {},
   "outputs": [],
   "source": [
    "import numpy as np\n",
    "import pandas as pd\n",
    "from sklearn.model_selection import train_test_split\n",
    "\n",
    "train_data = pd.read_csv('data/train.csv')\n",
    "\n",
    "X_t = train_data.drop(['category', 'ID'], axis=1)\n",
    "y_t = train_data['category']\n",
    "\n",
    "test_data = pd.read_csv('data/test.csv')\n",
    "\n",
    "X_train, X_test, y_train, y_test = train_test_split(X_t, y_t, test_size=0.1, random_state=42)"
   ]
  },
  {
   "attachments": {},
   "cell_type": "markdown",
   "metadata": {},
   "source": [
    "# Approach 2: Pipelining the process"
   ]
  },
  {
   "cell_type": "code",
   "execution_count": 28,
   "metadata": {},
   "outputs": [
    {
     "data": {
      "text/plain": [
       "<module 'metaclass' from 'c:\\\\Users\\\\aniru\\\\Desktop\\\\College\\\\Statistical Machine Learning (CSE342)\\\\Project\\\\metaclass.py'>"
      ]
     },
     "execution_count": 28,
     "metadata": {},
     "output_type": "execute_result"
    }
   ],
   "source": [
    "import metaclass as mc\n",
    "import pipeline_components as pc\n",
    "import importlib\n",
    "importlib.reload(mc)"
   ]
  },
  {
   "cell_type": "code",
   "execution_count": 29,
   "metadata": {},
   "outputs": [
    {
     "name": "stdout",
     "output_type": "stream",
     "text": [
      "Standardizing data...\n",
      "Currently at clustering: ('kmeans', 4)\n",
      "Shape of X_t: (1094, 4096)\n",
      "Shape of y_pred: (1094,)\n",
      "Shape of X_t_kmeans: (1094, 4097)\n",
      "Currently at dim reduction\n",
      "X_t shape: (1094, 19)\n",
      "Currently at outlier removal: None\n",
      "Currently at classifier: logistic\n",
      "Currently at ensembling\n",
      "Done!\n",
      "Pipeline done\n"
     ]
    }
   ],
   "source": [
    "pipeline = mc.Pipeline(\n",
    "    clustering_alg=(\"kmeans\", 4),\n",
    "    dim_reduction_algs=[(\"pca\", 350), (\"lda\", 19)],\n",
    "    outlier_detection_alg=None,\n",
    "    classification_alg=\"logistic\",\n",
    "    ensemble_algs=[\"bagging\"],\n",
    ")\n",
    "# pipeline.fit(X_t, y_t)\n",
    "pipeline.fit(X_train, y_train)\n",
    "print(\"Pipeline done\")\n",
    "\n",
    "# cv_scores = pipeline.cross_validate(X_t, y_t, n_splits=5)\n",
    "# print(\"Cross validation scores: \", cv_scores)"
   ]
  },
  {
   "cell_type": "code",
   "execution_count": 30,
   "metadata": {},
   "outputs": [
    {
     "name": "stdout",
     "output_type": "stream",
     "text": [
      "Shape of X_t: (122, 4096)\n",
      "Shape of y_pred: (122,)\n",
      "Shape of X_t_kmeans: (122, 4097)\n",
      "Validation accuracy:  0.7868852459016393\n"
     ]
    }
   ],
   "source": [
    "# Training accuracy\n",
    "y_pred = pipeline.predict(X_test)\n",
    "print(\"Validation accuracy: \", np.sum(y_pred == y_test) / len(y_test))\n",
    "\n",
    "# 255 pca, 1 lda, logistic, no ensemble\n",
    "# cv_scores"
   ]
  },
  {
   "cell_type": "code",
   "execution_count": 31,
   "metadata": {},
   "outputs": [],
   "source": [
    "# pipeline.generate_submission(test_data)"
   ]
  },
  {
   "attachments": {},
   "cell_type": "markdown",
   "metadata": {},
   "source": [
    "# Approach 3 - New Pipeline"
   ]
  },
  {
   "attachments": {},
   "cell_type": "markdown",
   "metadata": {},
   "source": [
    "# Imports"
   ]
  },
  {
   "cell_type": "code",
   "execution_count": 32,
   "metadata": {},
   "outputs": [],
   "source": [
    "from sklearn.linear_model import LogisticRegression\n",
    "from sklearn.pipeline import Pipeline, make_pipeline\n",
    "from sklearn.preprocessing import FunctionTransformer, OneHotEncoder, StandardScaler\n",
    "from pipeline_components import *\n",
    "from sklearn.decomposition import PCA\n",
    "from sklearn.discriminant_analysis import LinearDiscriminantAnalysis\n",
    "from sklearn.neural_network import MLPClassifier\n",
    "from sklearn.model_selection import cross_val_score\n",
    "from sklearn.ensemble import BaggingClassifier, GradientBoostingClassifier\n",
    "from xgboost import XGBClassifier"
   ]
  },
  {
   "cell_type": "code",
   "execution_count": 41,
   "metadata": {},
   "outputs": [],
   "source": [
    "def generate_submission(pipeline, test_data):\n",
    "    from datetime import datetime\n",
    "\n",
    "    X_test = test_data.drop(['ID'], axis=1)\n",
    "    y_pred = pipeline.predict(X_test)\n",
    "\n",
    "    submission = pd.DataFrame({'ID': test_data['ID'], 'Category': y_pred})\n",
    "    submission.to_csv(f\"submissions/submission_{(datetime.now()).strftime('%Y_%m_%d-%H_%M')}.csv\", index=False)\n"
   ]
  },
  {
   "cell_type": "code",
   "execution_count": 36,
   "metadata": {},
   "outputs": [
    {
     "name": "stdout",
     "output_type": "stream",
     "text": [
      "Pipeline done\n"
     ]
    }
   ],
   "source": [
    "pipeline = Pipeline([\n",
    "    (\"PCA 250\", PCA(n_components=300)),\n",
    "    (\"LDA 19\", LinearDiscriminantAnalysis(n_components=19)),\n",
    "    ('Logistic Regression', LogisticRegression(max_iter=1000))\n",
    "    ])\n",
    "\n",
    "pipeline.fit(X_t, y_t)\n",
    "print(\"Pipeline done\")\n",
    "cross_val_scores=cross_val_score(pipeline, X_t, y_t, cv=5)"
   ]
  },
  {
   "cell_type": "code",
   "execution_count": 38,
   "metadata": {},
   "outputs": [
    {
     "data": {
      "text/plain": [
       "(0.7862038723605209, 0.021079661465683932)"
      ]
     },
     "execution_count": 38,
     "metadata": {},
     "output_type": "execute_result"
    }
   ],
   "source": [
    "cross_val_scores.mean(), cross_val_scores.std()"
   ]
  },
  {
   "cell_type": "code",
   "execution_count": 42,
   "metadata": {},
   "outputs": [],
   "source": [
    "generate_submission(pipeline, test_data)"
   ]
  }
 ],
 "metadata": {
  "kernelspec": {
   "display_name": "Python 3",
   "language": "python",
   "name": "python3"
  },
  "language_info": {
   "codemirror_mode": {
    "name": "ipython",
    "version": 3
   },
   "file_extension": ".py",
   "mimetype": "text/x-python",
   "name": "python",
   "nbconvert_exporter": "python",
   "pygments_lexer": "ipython3",
   "version": "3.10.5"
  },
  "orig_nbformat": 4
 },
 "nbformat": 4,
 "nbformat_minor": 2
}
